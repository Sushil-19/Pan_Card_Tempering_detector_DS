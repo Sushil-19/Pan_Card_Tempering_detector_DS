{
 "cells": [
  {
   "cell_type": "code",
   "execution_count": 2,
   "id": "41b520bf-4d9c-47c2-a755-d31ce727f794",
   "metadata": {},
   "outputs": [
    {
     "name": "stdout",
     "output_type": "stream",
     "text": [
      "Collecting imutils\n",
      "  Downloading imutils-0.5.4.tar.gz (17 kB)\n",
      "Using legacy 'setup.py install' for imutils, since package 'wheel' is not installed.\n",
      "Installing collected packages: imutils\n",
      "    Running setup.py install for imutils ... \u001b[?25ldone\n",
      "\u001b[?25hSuccessfully installed imutils-0.5.4\n",
      "\u001b[33mWARNING: You are using pip version 21.2.4; however, version 23.3.1 is available.\n",
      "You should consider upgrading via the '/Users/sushildube/Desktop/ML_projects/env/bin/python3 -m pip install --upgrade pip' command.\u001b[0m\n"
     ]
    }
   ],
   "source": [
    "!pip install --upgrade imutils"
   ]
  },
  {
   "cell_type": "code",
   "execution_count": 1,
   "id": "cc70111a-5e47-49ba-a6d7-79650e2c7b75",
   "metadata": {},
   "outputs": [
    {
     "name": "stdout",
     "output_type": "stream",
     "text": [
      "Collecting opencv-python\n",
      "  Downloading opencv_python-4.8.1.78-cp37-abi3-macosx_11_0_arm64.whl (33.1 MB)\n",
      "\u001b[K     |████████████████████████████████| 33.1 MB 24.5 MB/s eta 0:00:01\n",
      "\u001b[?25hRequirement already satisfied: numpy>=1.17.0 in /Users/sushildube/Desktop/ML_projects/env/lib/python3.9/site-packages (from opencv-python) (1.25.2)\n",
      "Installing collected packages: opencv-python\n",
      "Successfully installed opencv-python-4.8.1.78\n",
      "\u001b[33mWARNING: You are using pip version 21.2.4; however, version 23.3.1 is available.\n",
      "You should consider upgrading via the '/Users/sushildube/Desktop/ML_projects/env/bin/python3 -m pip install --upgrade pip' command.\u001b[0m\n"
     ]
    }
   ],
   "source": [
    "!pip install opencv-python"
   ]
  },
  {
   "cell_type": "code",
   "execution_count": 2,
   "id": "a504c8a1-0fa5-4c6a-bba7-e435c81cc121",
   "metadata": {},
   "outputs": [
    {
     "name": "stderr",
     "output_type": "stream",
     "text": [
      "/Users/sushildube/Desktop/ML_projects/env/lib/python3.9/site-packages/urllib3/__init__.py:34: NotOpenSSLWarning: urllib3 v2.0 only supports OpenSSL 1.1.1+, currently the 'ssl' module is compiled with 'LibreSSL 2.8.3'. See: https://github.com/urllib3/urllib3/issues/3020\n",
      "  warnings.warn(\n"
     ]
    }
   ],
   "source": [
    "from skimage.metrics import structural_similarity\n",
    "import imutils\n",
    "import cv2\n",
    "from PIL import Image\n",
    "import requests"
   ]
  },
  {
   "cell_type": "code",
   "execution_count": 3,
   "id": "35d20484-e7f3-4a5a-a933-0e157ab42e0d",
   "metadata": {},
   "outputs": [],
   "source": [
    "!mkdir pan_card_tempering"
   ]
  },
  {
   "cell_type": "code",
   "execution_count": 4,
   "id": "f128a29e-b014-427e-8e4f-05cfed1272ae",
   "metadata": {},
   "outputs": [],
   "source": [
    "!mkdir pan_card_tempering/image"
   ]
  },
  {
   "cell_type": "code",
   "execution_count": 8,
   "id": "b1a43ff7-ca25-4694-8a94-bb4d53f65f37",
   "metadata": {},
   "outputs": [],
   "source": [
    "original = Image.open(requests.get('https://www.thestatesman.com/wp-content/uploads/2019/07/pan-card.jpg',stream=True).raw)\n",
    "tempered = Image.open(requests.get('https://assets1.cleartax-cdn.com/s/img/20170526124335/Pan4.png',stream=True).raw)"
   ]
  },
  {
   "cell_type": "code",
   "execution_count": 10,
   "id": "4ff204b6-17bf-43a4-ae9c-4d20534460e8",
   "metadata": {},
   "outputs": [
    {
     "name": "stdout",
     "output_type": "stream",
     "text": [
      "Original Image Format :  JPEG\n",
      "Tempered Image Format :  PNG\n",
      "Original Image size (1200, 800)\n",
      "Tempered Image size (282, 179)\n"
     ]
    }
   ],
   "source": [
    "print('Original Image Format : ', original.format)\n",
    "print('Tempered Image Format : ', tempered.format)\n",
    "\n",
    "print('Original Image size', original.size)\n",
    "print('Tempered Image size', tempered.size)"
   ]
  },
  {
   "cell_type": "code",
   "execution_count": 11,
   "id": "7776c74b-88c9-4081-92ff-682e760b17f4",
   "metadata": {},
   "outputs": [
    {
     "name": "stdout",
     "output_type": "stream",
     "text": [
      "(250, 160)\n",
      "original image saved\n",
      "(250, 160)\n",
      "tempered image saved\n"
     ]
    }
   ],
   "source": [
    "original = original.resize((250,160))\n",
    "print(original.size)\n",
    "original.save('pan_card_tempering/image/original.png')\n",
    "print('original image saved')\n",
    "tempered = tempered.resize((250,160))\n",
    "print(tempered.size)\n",
    "print('tempered image saved')\n",
    "tempered.save('pan_card_tempering/image/tempered.png')"
   ]
  },
  {
   "cell_type": "code",
   "execution_count": null,
   "id": "c3ee444d-88e2-4d5e-ac3b-a870dc7f6439",
   "metadata": {},
   "outputs": [],
   "source": []
  }
 ],
 "metadata": {
  "kernelspec": {
   "display_name": "Python 3 (ipykernel)",
   "language": "python",
   "name": "python3"
  },
  "language_info": {
   "codemirror_mode": {
    "name": "ipython",
    "version": 3
   },
   "file_extension": ".py",
   "mimetype": "text/x-python",
   "name": "python",
   "nbconvert_exporter": "python",
   "pygments_lexer": "ipython3",
   "version": "3.9.6"
  }
 },
 "nbformat": 4,
 "nbformat_minor": 5
}
